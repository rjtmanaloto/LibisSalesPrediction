{
 "cells": [
  {
   "cell_type": "markdown",
   "id": "d1cdcf17-4535-4487-9e60-d816a5da152f",
   "metadata": {},
   "source": [
    "# Libis Gardening Prediction System"
   ]
  },
  {
   "cell_type": "code",
   "execution_count": 1,
   "id": "3c2f831e",
   "metadata": {
    "jupyter": {
     "source_hidden": true
    }
   },
   "outputs": [
    {
     "data": {
      "text/html": [
       "<h1><img src=\"xtras/logo.png\" style=\"background-color: black\"></h1>"
      ],
      "text/plain": [
       "<IPython.core.display.HTML object>"
      ]
     },
     "metadata": {},
     "output_type": "display_data"
    }
   ],
   "source": [
    "\n",
    "%run codes/logo.ipynb"
   ]
  },
  {
   "cell_type": "markdown",
   "id": "1cd534f4-c972-4001-9aa8-c9d247d81e3b",
   "metadata": {
    "extensions": {
     "jupyter_dashboards": {
      "version": 1,
      "views": {
       "grid_default": {},
       "report_default": {}
      }
     }
    }
   },
   "source": [
    "# Historical Sales"
   ]
  },
  {
   "cell_type": "code",
   "execution_count": 2,
   "id": "96e441e4-8134-4f59-b4fb-8c29565b8004",
   "metadata": {
    "jupyter": {
     "source_hidden": true
    }
   },
   "outputs": [
    {
     "data": {
      "text/html": [
       "<div>\n",
       "<style scoped>\n",
       "    .dataframe tbody tr th:only-of-type {\n",
       "        vertical-align: middle;\n",
       "    }\n",
       "\n",
       "    .dataframe tbody tr th {\n",
       "        vertical-align: top;\n",
       "    }\n",
       "\n",
       "    .dataframe thead th {\n",
       "        text-align: right;\n",
       "    }\n",
       "</style>\n",
       "<table border=\"1\" class=\"dataframe\">\n",
       "  <thead>\n",
       "    <tr style=\"text-align: right;\">\n",
       "      <th></th>\n",
       "      <th>Name</th>\n",
       "      <th>Size</th>\n",
       "      <th>Cost</th>\n",
       "      <th>Category</th>\n",
       "      <th>Sales</th>\n",
       "      <th>Year</th>\n",
       "    </tr>\n",
       "  </thead>\n",
       "  <tbody>\n",
       "    <tr>\n",
       "      <th>0</th>\n",
       "      <td>Kamias</td>\n",
       "      <td>Medium</td>\n",
       "      <td>100</td>\n",
       "      <td>Tree</td>\n",
       "      <td>3400</td>\n",
       "      <td>2020</td>\n",
       "    </tr>\n",
       "    <tr>\n",
       "      <th>1</th>\n",
       "      <td>Kalamasi</td>\n",
       "      <td>Medium</td>\n",
       "      <td>120</td>\n",
       "      <td>Tree</td>\n",
       "      <td>4080</td>\n",
       "      <td>2020</td>\n",
       "    </tr>\n",
       "    <tr>\n",
       "      <th>2</th>\n",
       "      <td>Papaya</td>\n",
       "      <td>Small</td>\n",
       "      <td>50</td>\n",
       "      <td>Tree</td>\n",
       "      <td>1700</td>\n",
       "      <td>2020</td>\n",
       "    </tr>\n",
       "    <tr>\n",
       "      <th>3</th>\n",
       "      <td>Kamias</td>\n",
       "      <td>Medium</td>\n",
       "      <td>100</td>\n",
       "      <td>Tree</td>\n",
       "      <td>3700</td>\n",
       "      <td>2021</td>\n",
       "    </tr>\n",
       "    <tr>\n",
       "      <th>4</th>\n",
       "      <td>Kalamasi</td>\n",
       "      <td>Medium</td>\n",
       "      <td>120</td>\n",
       "      <td>Tree</td>\n",
       "      <td>5060</td>\n",
       "      <td>2021</td>\n",
       "    </tr>\n",
       "    <tr>\n",
       "      <th>5</th>\n",
       "      <td>Papaya</td>\n",
       "      <td>Small</td>\n",
       "      <td>50</td>\n",
       "      <td>Tree</td>\n",
       "      <td>2500</td>\n",
       "      <td>2021</td>\n",
       "    </tr>\n",
       "  </tbody>\n",
       "</table>\n",
       "</div>"
      ],
      "text/plain": [
       "       Name    Size Cost Category Sales  Year\n",
       "0    Kamias  Medium  100     Tree  3400  2020\n",
       "1  Kalamasi  Medium  120     Tree  4080  2020\n",
       "2    Papaya   Small   50     Tree  1700  2020\n",
       "3    Kamias  Medium  100     Tree  3700  2021\n",
       "4  Kalamasi  Medium  120     Tree  5060  2021\n",
       "5    Papaya   Small   50     Tree  2500  2021"
      ]
     },
     "execution_count": 2,
     "metadata": {},
     "output_type": "execute_result"
    }
   ],
   "source": [
    "\n",
    "%run codes/historicalsales.ipynb\n",
    "# concatinate the objects \n",
    "df = pd.concat([train2, train1, test], axis=0)\n",
    "pd.set_option('display.max_rows', df.shape[0]+1)\n",
    "df.reset_index(drop=True, inplace=True)\n",
    "df"
   ]
  },
  {
   "cell_type": "markdown",
   "id": "30f3ab70-66ff-453f-8779-55a4f96be1f5",
   "metadata": {},
   "source": [
    "# Sales Predictions"
   ]
  },
  {
   "cell_type": "code",
   "execution_count": 3,
   "id": "3fc6f7b8-3ff2-4ab0-acc7-fb6ccc0f32eb",
   "metadata": {
    "jupyter": {
     "source_hidden": true
    }
   },
   "outputs": [
    {
     "name": "stdout",
     "output_type": "stream",
     "text": [
      "Model Report Score Accuracy: 0.8656730769230769\n"
     ]
    }
   ],
   "source": [
    "\n",
    "%run codes/randomforestregression.ipynb"
   ]
  },
  {
   "cell_type": "markdown",
   "id": "8666902f-e64e-4272-808f-0dd665864426",
   "metadata": {
    "extensions": {
     "jupyter_dashboards": {
      "version": 1,
      "views": {
       "grid_default": {},
       "report_default": {
        "hidden": false
       }
      }
     }
    }
   },
   "source": [
    "## Annual Prediction Result"
   ]
  },
  {
   "cell_type": "code",
   "execution_count": 4,
   "id": "8aa48823-6c7e-4a10-8214-6031fa440601",
   "metadata": {
    "extensions": {
     "jupyter_dashboards": {
      "version": 1,
      "views": {
       "grid_default": {},
       "report_default": {
        "hidden": true
       }
      }
     }
    },
    "jupyter": {
     "source_hidden": true
    },
    "scrolled": true
   },
   "outputs": [
    {
     "data": {
      "text/html": [
       "<div>\n",
       "<style scoped>\n",
       "    .dataframe tbody tr th:only-of-type {\n",
       "        vertical-align: middle;\n",
       "    }\n",
       "\n",
       "    .dataframe tbody tr th {\n",
       "        vertical-align: top;\n",
       "    }\n",
       "\n",
       "    .dataframe thead th {\n",
       "        text-align: right;\n",
       "    }\n",
       "</style>\n",
       "<table border=\"1\" class=\"dataframe\">\n",
       "  <thead>\n",
       "    <tr style=\"text-align: right;\">\n",
       "      <th></th>\n",
       "      <th>Product Name</th>\n",
       "      <th>Predicted Sales (₱)</th>\n",
       "    </tr>\n",
       "  </thead>\n",
       "  <tbody>\n",
       "    <tr>\n",
       "      <th>3</th>\n",
       "      <td>Kamias</td>\n",
       "      <td>3495.2</td>\n",
       "    </tr>\n",
       "    <tr>\n",
       "      <th>4</th>\n",
       "      <td>Kalamasi</td>\n",
       "      <td>3842.0</td>\n",
       "    </tr>\n",
       "    <tr>\n",
       "      <th>5</th>\n",
       "      <td>Papaya</td>\n",
       "      <td>2281.4</td>\n",
       "    </tr>\n",
       "  </tbody>\n",
       "</table>\n",
       "</div>"
      ],
      "text/plain": [
       "  Product Name  Predicted Sales (₱)\n",
       "3       Kamias               3495.2\n",
       "4     Kalamasi               3842.0\n",
       "5       Papaya               2281.4"
      ]
     },
     "execution_count": 4,
     "metadata": {},
     "output_type": "execute_result"
    }
   ],
   "source": [
    "\n",
    "mission = pd.DataFrame()\n",
    "mission['Product Name'] = test[\"Name\"]\n",
    "mission['Predicted Sales (₱)'] = pred\n",
    "pd.set_option('display.max_rows', df.shape[0]+1)\n",
    "mission"
   ]
  },
  {
   "cell_type": "markdown",
   "id": "e069d64b-83e2-49a0-93cc-fa835914a744",
   "metadata": {
    "extensions": {
     "jupyter_dashboards": {
      "version": 1,
      "views": {
       "grid_default": {},
       "report_default": {}
      }
     }
    }
   },
   "source": [
    "## Quarterly Prediction Result"
   ]
  },
  {
   "cell_type": "code",
   "execution_count": 5,
   "id": "f03536dd",
   "metadata": {
    "extensions": {
     "jupyter_dashboards": {
      "version": 1,
      "views": {
       "grid_default": {},
       "report_default": {}
      }
     }
    },
    "jupyter": {
     "source_hidden": true
    },
    "scrolled": true
   },
   "outputs": [
    {
     "data": {
      "text/html": [
       "<div>\n",
       "<style scoped>\n",
       "    .dataframe tbody tr th:only-of-type {\n",
       "        vertical-align: middle;\n",
       "    }\n",
       "\n",
       "    .dataframe tbody tr th {\n",
       "        vertical-align: top;\n",
       "    }\n",
       "\n",
       "    .dataframe thead th {\n",
       "        text-align: right;\n",
       "    }\n",
       "</style>\n",
       "<table border=\"1\" class=\"dataframe\">\n",
       "  <thead>\n",
       "    <tr style=\"text-align: right;\">\n",
       "      <th></th>\n",
       "      <th>Product Name</th>\n",
       "      <th>Predicted Sales (₱)</th>\n",
       "    </tr>\n",
       "  </thead>\n",
       "  <tbody>\n",
       "    <tr>\n",
       "      <th>3</th>\n",
       "      <td>Kamias</td>\n",
       "      <td>873.80</td>\n",
       "    </tr>\n",
       "    <tr>\n",
       "      <th>4</th>\n",
       "      <td>Kalamasi</td>\n",
       "      <td>960.50</td>\n",
       "    </tr>\n",
       "    <tr>\n",
       "      <th>5</th>\n",
       "      <td>Papaya</td>\n",
       "      <td>570.35</td>\n",
       "    </tr>\n",
       "  </tbody>\n",
       "</table>\n",
       "</div>"
      ],
      "text/plain": [
       "  Product Name  Predicted Sales (₱)\n",
       "3       Kamias               873.80\n",
       "4     Kalamasi               960.50\n",
       "5       Papaya               570.35"
      ]
     },
     "execution_count": 5,
     "metadata": {},
     "output_type": "execute_result"
    }
   ],
   "source": [
    "\n",
    "mission = pd.DataFrame()\n",
    "mission['Product Name'] = test[\"Name\"]\n",
    "mission['Predicted Sales (₱)'] = pred / 4\n",
    "pd.set_option('display.max_rows', df.shape[0]+1)\n",
    "mission"
   ]
  },
  {
   "cell_type": "markdown",
   "id": "6b4460ce-e715-43af-9a10-7c6b4dd521b3",
   "metadata": {
    "extensions": {
     "jupyter_dashboards": {
      "version": 1,
      "views": {
       "grid_default": {},
       "report_default": {}
      }
     }
    }
   },
   "source": [
    "## Monthly Prediction Result"
   ]
  },
  {
   "cell_type": "code",
   "execution_count": 6,
   "id": "3c773cfe",
   "metadata": {
    "extensions": {
     "jupyter_dashboards": {
      "version": 1,
      "views": {
       "grid_default": {},
       "report_default": {}
      }
     }
    },
    "jupyter": {
     "source_hidden": true
    }
   },
   "outputs": [
    {
     "data": {
      "text/html": [
       "<div>\n",
       "<style scoped>\n",
       "    .dataframe tbody tr th:only-of-type {\n",
       "        vertical-align: middle;\n",
       "    }\n",
       "\n",
       "    .dataframe tbody tr th {\n",
       "        vertical-align: top;\n",
       "    }\n",
       "\n",
       "    .dataframe thead th {\n",
       "        text-align: right;\n",
       "    }\n",
       "</style>\n",
       "<table border=\"1\" class=\"dataframe\">\n",
       "  <thead>\n",
       "    <tr style=\"text-align: right;\">\n",
       "      <th></th>\n",
       "      <th>Product Name</th>\n",
       "      <th>Predicted Sales (₱)</th>\n",
       "    </tr>\n",
       "  </thead>\n",
       "  <tbody>\n",
       "    <tr>\n",
       "      <th>3</th>\n",
       "      <td>Kamias</td>\n",
       "      <td>291.266667</td>\n",
       "    </tr>\n",
       "    <tr>\n",
       "      <th>4</th>\n",
       "      <td>Kalamasi</td>\n",
       "      <td>320.166667</td>\n",
       "    </tr>\n",
       "    <tr>\n",
       "      <th>5</th>\n",
       "      <td>Papaya</td>\n",
       "      <td>190.116667</td>\n",
       "    </tr>\n",
       "  </tbody>\n",
       "</table>\n",
       "</div>"
      ],
      "text/plain": [
       "  Product Name  Predicted Sales (₱)\n",
       "3       Kamias           291.266667\n",
       "4     Kalamasi           320.166667\n",
       "5       Papaya           190.116667"
      ]
     },
     "execution_count": 6,
     "metadata": {},
     "output_type": "execute_result"
    }
   ],
   "source": [
    "\n",
    "mission = pd.DataFrame()\n",
    "mission['Product Name'] = test[\"Name\"]\n",
    "mission['Predicted Sales (₱)'] = pred / 12\n",
    "pd.set_option('display.max_rows', df.shape[0]+1)\n",
    "mission"
   ]
  }
 ],
 "metadata": {
  "extensions": {
   "jupyter_dashboards": {
    "activeView": "grid_default",
    "version": 1,
    "views": {
     "grid_default": {
      "cellMargin": 10,
      "defaultCellHeight": 20,
      "maxColumns": 12,
      "name": "grid",
      "type": "grid"
     },
     "report_default": {
      "name": "report",
      "type": "report"
     }
    }
   }
  },
  "hide_input": false,
  "kernelspec": {
   "display_name": "Python 3 (ipykernel)",
   "language": "python",
   "name": "python3"
  },
  "language_info": {
   "codemirror_mode": {
    "name": "ipython",
    "version": 3
   },
   "file_extension": ".py",
   "mimetype": "text/x-python",
   "name": "python",
   "nbconvert_exporter": "python",
   "pygments_lexer": "ipython3",
   "version": "3.11.5"
  }
 },
 "nbformat": 4,
 "nbformat_minor": 5
}
