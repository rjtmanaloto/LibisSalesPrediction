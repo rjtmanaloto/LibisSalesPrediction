{
 "cells": [
  {
   "cell_type": "code",
   "execution_count": null,
   "id": "c2ae9ee7-f798-463b-9e8a-ee6700548b1c",
   "metadata": {},
   "outputs": [],
   "source": [
    "with open('xtras/papi.py', 'r') as file: papi = file.read() \n",
    "exec(papi) \n",
    "display(HTML('<h1><img src=\"xtras/logo.png\" style=\"background-color: black\"></h1>'))"
   ]
  }
 ],
 "metadata": {
  "kernelspec": {
   "display_name": "Python 3 (ipykernel)",
   "language": "python",
   "name": "python3"
  },
  "language_info": {
   "codemirror_mode": {
    "name": "ipython",
    "version": 3
   },
   "file_extension": ".py",
   "mimetype": "text/x-python",
   "name": "python",
   "nbconvert_exporter": "python",
   "pygments_lexer": "ipython3",
   "version": "3.11.5"
  }
 },
 "nbformat": 4,
 "nbformat_minor": 5
}
