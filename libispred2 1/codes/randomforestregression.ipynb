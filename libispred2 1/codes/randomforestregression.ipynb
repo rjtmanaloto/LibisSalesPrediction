{
 "cells": [
  {
   "cell_type": "code",
   "execution_count": 7,
   "id": "9ab095fa-7cac-4448-a2ff-657267dc173d",
   "metadata": {
    "extensions": {
     "jupyter_dashboards": {
      "version": 1,
      "views": {
       "grid_default": {},
       "report_default": {
        "hidden": true
       }
      }
     }
    }
   },
   "outputs": [],
   "source": [
    "%%capture\n",
    "print(len(train2), len(train1), len(test), len(df))"
   ]
  },
  {
   "cell_type": "code",
   "execution_count": 8,
   "id": "7f89074b-9f53-4945-b065-c26ac039cc5b",
   "metadata": {
    "extensions": {
     "jupyter_dashboards": {
      "version": 1,
      "views": {
       "grid_default": {},
       "report_default": {
        "hidden": true
       }
      }
     }
    }
   },
   "outputs": [],
   "source": [
    "%%capture\n",
    "# get unique values x serves as a placeholder for the value\n",
    "df.apply(lambda x: len(x.unique()))"
   ]
  },
  {
   "cell_type": "code",
   "execution_count": 9,
   "id": "823c18d1-f0f3-480a-b45a-d781dae1ec09",
   "metadata": {
    "extensions": {
     "jupyter_dashboards": {
      "version": 1,
      "views": {
       "grid_default": {},
       "report_default": {
        "hidden": true
       }
      }
     }
    }
   },
   "outputs": [],
   "source": [
    "%%capture\n",
    "df.isnull().sum()"
   ]
  },
  {
   "cell_type": "code",
   "execution_count": 10,
   "id": "f6d7458b-0948-4ca2-9930-0bdd8246f267",
   "metadata": {
    "extensions": {
     "jupyter_dashboards": {
      "version": 1,
      "views": {
       "grid_default": {},
       "report_default": {
        "hidden": true
       }
      }
     }
    }
   },
   "outputs": [],
   "source": [
    "%%capture\n",
    "# combines object types\n",
    "cat_col = []\n",
    "for x in df.dtypes.index:\n",
    "    if df.dtypes[x] == 'object':\n",
    "        cat_col.append(x)\n",
    "cat_col"
   ]
  },
  {
   "cell_type": "code",
   "execution_count": 11,
   "id": "6472c85d-1c98-4eb7-952b-724cea53b8cf",
   "metadata": {
    "extensions": {
     "jupyter_dashboards": {
      "version": 1,
      "views": {
       "grid_default": {},
       "report_default": {
        "hidden": true
       }
      }
     }
    }
   },
   "outputs": [],
   "source": [
    "%%capture\n",
    "cat_col.remove('Name')\n",
    "cat_col"
   ]
  },
  {
   "cell_type": "code",
   "execution_count": 12,
   "id": "6314a945-a867-4f5e-b251-0e342540206d",
   "metadata": {
    "extensions": {
     "jupyter_dashboards": {
      "version": 1,
      "views": {
       "grid_default": {},
       "report_default": {
        "hidden": true
       }
      }
     }
    }
   },
   "outputs": [],
   "source": [
    "%%capture\n",
    "# counts the value in objects\n",
    "for col in cat_col:\n",
    "    print(col)\n",
    "    print(df[col].value_counts())\n",
    "    print();"
   ]
  },
  {
   "cell_type": "code",
   "execution_count": 13,
   "id": "439ac293-4505-46f5-b330-2fce2c7adccc",
   "metadata": {
    "extensions": {
     "jupyter_dashboards": {
      "version": 1,
      "views": {
       "grid_default": {},
       "report_default": {
        "hidden": true
       }
      }
     }
    }
   },
   "outputs": [],
   "source": [
    "%%capture\n",
    "# creates values and column for objects\n",
    "size_mode = df.pivot_table(values = 'Size', columns = 'Category', aggfunc=(lambda x: x.mode()[0]))\n",
    "size_mode"
   ]
  },
  {
   "cell_type": "code",
   "execution_count": 14,
   "id": "7eebe7d3-0023-47af-94ac-96ba52b07352",
   "metadata": {
    "extensions": {
     "jupyter_dashboards": {
      "version": 1,
      "views": {
       "grid_default": {},
       "report_default": {
        "hidden": true
       }
      }
     }
    }
   },
   "outputs": [],
   "source": [
    "miss_bool = df['Size'].isnull()\n",
    "df.loc[miss_bool, 'Size'] = df.loc[miss_bool, 'Category'].apply(lambda x: size_mode[x])"
   ]
  },
  {
   "cell_type": "code",
   "execution_count": 15,
   "id": "9de23a0a-631f-4dc4-b541-30bcadab352e",
   "metadata": {
    "extensions": {
     "jupyter_dashboards": {
      "version": 1,
      "views": {
       "grid_default": {},
       "report_default": {
        "hidden": true
       }
      }
     }
    }
   },
   "outputs": [],
   "source": [
    "%%capture\n",
    "df['Size'].isnull().sum()"
   ]
  },
  {
   "cell_type": "code",
   "execution_count": 16,
   "id": "09d469ea-6a9b-4320-b65a-c0ced32e4e58",
   "metadata": {
    "extensions": {
     "jupyter_dashboards": {
      "version": 1,
      "views": {
       "grid_default": {},
       "report_default": {
        "hidden": true
       }
      }
     }
    }
   },
   "outputs": [],
   "source": [
    "df['Total_Year'] = 2022 - df['Year']"
   ]
  },
  {
   "cell_type": "code",
   "execution_count": 17,
   "id": "97d0e94f-3779-4d7b-b880-06e177df9cf4",
   "metadata": {
    "extensions": {
     "jupyter_dashboards": {
      "version": 1,
      "views": {
       "grid_default": {},
       "report_default": {
        "hidden": true
       }
      }
     }
    }
   },
   "outputs": [],
   "source": [
    "%%capture\n",
    "df['Total_Year']"
   ]
  },
  {
   "cell_type": "code",
   "execution_count": 18,
   "id": "4dfc5eec-6755-43d6-b96e-a894c6fd7557",
   "metadata": {
    "extensions": {
     "jupyter_dashboards": {
      "version": 1,
      "views": {
       "grid_default": {},
       "report_default": {
        "hidden": true
       }
      }
     }
    }
   },
   "outputs": [],
   "source": [
    "%%capture\n",
    "# creates entry for the column\n",
    "df = pd.get_dummies(df, columns=[ 'Size', 'Category'])\n",
    "df.head();"
   ]
  },
  {
   "cell_type": "code",
   "execution_count": 19,
   "id": "e9f89faf-9f4a-4d68-8a59-695d0bb8e57a",
   "metadata": {
    "extensions": {
     "jupyter_dashboards": {
      "version": 1,
      "views": {
       "grid_default": {},
       "report_default": {
        "hidden": true
       }
      }
     }
    }
   },
   "outputs": [],
   "source": [
    "%%capture\n",
    "df.tail();"
   ]
  },
  {
   "cell_type": "code",
   "execution_count": 20,
   "id": "f6b2dcd0-cf5f-4ed1-af8a-1c8b62ff1c1d",
   "metadata": {
    "extensions": {
     "jupyter_dashboards": {
      "version": 1,
      "views": {
       "grid_default": {},
       "report_default": {
        "hidden": true
       }
      }
     }
    }
   },
   "outputs": [],
   "source": [
    "%%capture\n",
    "train2 = df.iloc[:train2_len,:]\n",
    "train1 = df.iloc[train2_len:,:]\n",
    "test = df.iloc[train2_len:,:]"
   ]
  },
  {
   "cell_type": "code",
   "execution_count": 21,
   "id": "22b659cc-cc11-43e9-a2da-54043414b9ac",
   "metadata": {
    "extensions": {
     "jupyter_dashboards": {
      "version": 1,
      "views": {
       "grid_default": {},
       "report_default": {
        "hidden": true
       }
      }
     }
    }
   },
   "outputs": [],
   "source": [
    "%%capture\n",
    "test = test.drop(columns=['Sales'])\n",
    "test.head()"
   ]
  },
  {
   "cell_type": "code",
   "execution_count": 22,
   "id": "7a46341b-9550-43df-a038-c0538ee2ddf1",
   "metadata": {
    "extensions": {
     "jupyter_dashboards": {
      "version": 1,
      "views": {
       "grid_default": {},
       "report_default": {
        "hidden": true
       }
      }
     }
    }
   },
   "outputs": [],
   "source": [
    "%%capture\n",
    "test.tail();"
   ]
  },
  {
   "cell_type": "code",
   "execution_count": 23,
   "id": "7863ffe1-f30a-48d3-9689-3f32fcc3ae0d",
   "metadata": {
    "extensions": {
     "jupyter_dashboards": {
      "version": 1,
      "views": {
       "grid_default": {},
       "report_default": {
        "hidden": true
       }
      }
     }
    }
   },
   "outputs": [],
   "source": [
    "# preparing for model fitting\n",
    "X = train2.drop(columns=['Year', 'Name', 'Sales'])\n",
    "y = train2['Sales']"
   ]
  },
  {
   "cell_type": "code",
   "execution_count": 24,
   "id": "89cfdf26-3690-4f27-bf00-dc87fe70f71e",
   "metadata": {},
   "outputs": [],
   "source": [
    "def train2(model, X, y):\n",
    "    model.fit(X, y)\n",
    "    model.score(X, y)"
   ]
  },
  {
   "cell_type": "code",
   "execution_count": 25,
   "id": "066a36da-3745-4a0e-abe0-be985bd9035f",
   "metadata": {
    "extensions": {
     "jupyter_dashboards": {
      "version": 1,
      "views": {
       "grid_default": {},
       "report_default": {
        "hidden": true
       }
      }
     }
    }
   },
   "outputs": [],
   "source": [
    "model = RandomForestRegressor()\n",
    "train2(model, X, y)\n",
    "coef = pd.Series(model.feature_importances_, X.columns).sort_values(ascending=False)"
   ]
  },
  {
   "cell_type": "code",
   "execution_count": 26,
   "id": "b44ad61c-f9b0-453f-8c6f-a32c774d3b88",
   "metadata": {
    "extensions": {
     "jupyter_dashboards": {
      "version": 1,
      "views": {
       "grid_default": {},
       "report_default": {
        "hidden": true
       }
      }
     }
    }
   },
   "outputs": [],
   "source": [
    "%%capture\n",
    "x_test = test.drop(columns=['Year', 'Name'])\n",
    "x_test.head();"
   ]
  },
  {
   "cell_type": "code",
   "execution_count": 5,
   "id": "b8a570eb",
   "metadata": {},
   "outputs": [],
   "source": [
    "class RandomForestRegresor:\n",
    "    def __init__(self, n_trees=10, max_depth=3, min_samples_split=2, n_feature=None):\n",
    "        self.n_trees = n_trees\n",
    "        self.max_depth = max_depth\n",
    "        self.min_samples_split = min_samples_split\n",
    "        self.n_features = n_feature\n",
    "        self.trees = []\n",
    "\n",
    "    def fit(self, X, y): \n",
    "            X_sample, y_sample = self._bootstrap_samples(X, y)\n",
    "            tree.fit(X_sample, y_sample)\n",
    "            self.trees.append(tree)\n",
    "\n",
    "    def _bootstrap_samples(self, X, y):\n",
    "        n_samples = X.shape[0]\n",
    "        idxs = np.random.choice(n_samples, n_samples, replace=True)\n",
    "        return X[idxs], y[idxs]\n",
    "\n",
    "    def predict(self, X):\n",
    "        predictions = np.array([tree.predict(X) for tree in self.trees])\n",
    "        return predictions\n"
   ]
  },
  {
   "cell_type": "raw",
   "id": "f3bf6b75-780b-4022-b011-81882733a1ea",
   "metadata": {
    "extensions": {
     "jupyter_dashboards": {
      "version": 1,
      "views": {
       "grid_default": {},
       "report_default": {
        "hidden": true
       }
      }
     }
    }
   },
   "source": [
    "model = RandomForestRegresor()\n",
    "model.fit(X, y)"
   ]
  },
  {
   "cell_type": "code",
   "execution_count": 6,
   "id": "abc4b576",
   "metadata": {
    "extensions": {
     "jupyter_dashboards": {
      "version": 1,
      "views": {
       "grid_default": {},
       "report_default": {
        "hidden": true
       }
      }
     }
    }
   },
   "outputs": [
    {
     "name": "stdout",
     "output_type": "stream",
     "text": [
      "Model Report Score Accuracy: 0.8447653846153845\n"
     ]
    }
   ],
   "source": [
    "pred = model.predict(X)\n",
    "print(\"Model Report Score Accuracy:\", model.score(X, y))"
   ]
  },
  {
   "cell_type": "code",
   "execution_count": 7,
   "id": "2f79f149",
   "metadata": {},
   "outputs": [
    {
     "data": {
      "text/plain": [
       "array([3542.8, 3923.6, 2349.4])"
      ]
     },
     "execution_count": 7,
     "metadata": {},
     "output_type": "execute_result"
    }
   ],
   "source": [
    "pred = model.predict(x_test)\n",
    "pred"
   ]
  }
 ],
 "metadata": {
  "kernelspec": {
   "display_name": "Python 3 (ipykernel)",
   "language": "python",
   "name": "python3"
  },
  "language_info": {
   "codemirror_mode": {
    "name": "ipython",
    "version": 3
   },
   "file_extension": ".py",
   "mimetype": "text/x-python",
   "name": "python",
   "nbconvert_exporter": "python",
   "pygments_lexer": "ipython3",
   "version": "3.11.5"
  }
 },
 "nbformat": 4,
 "nbformat_minor": 5
}
